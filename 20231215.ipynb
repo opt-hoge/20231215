{
 "cells": [
  {
   "cell_type": "markdown",
   "metadata": {},
   "source": [
    "# 配合問題"
   ]
  },
  {
   "cell_type": "markdown",
   "metadata": {},
   "source": [
    "https://www.msi.co.jp/solution/nuopt/docs/examples/html/02-01-00.html"
   ]
  },
  {
   "cell_type": "markdown",
   "metadata": {},
   "source": [
    "配合問題の例として、ここでは特定の組成を持つ合金を生成する問題を扱います。この他にも薬剤の調合や必要な栄養素を含む献立を考えるダイエット問題など配合問題として扱えるものは多岐にわたります。"
   ]
  },
  {
   "cell_type": "markdown",
   "metadata": {},
   "source": [
    "### 例題\n",
    "> 鉛、亜鉛、スズの構成比率が、それぞれ30%、30%、40%となるような合金を、市販の合金を混ぜ合わせ、できるだけ安いコストで生成することを考えます。現在手に入れることができる市販の合金は9種類で、それらの構成比率と単位量あたりのコストは以下の通りです。\n",
    ">\n",
    "> |市販の合金|1|2|3|4|5|6|7|8|9|\n",
    "> |-----|:--:|:--:|:--:|:--:|:--:|:--:|:--:|:--:|:--:|\n",
    "> |鉛(%)|20|50|30|30|30|60|40|10|10|\n",
    "> |亜鉛(%)|30|40|20|40|30|30|50|30|10|\n",
    "> |スズ(%)|50|10|50|30|40|10|10|60|80|\n",
    "> |コスト($/lb)|7.3|6.9|7.3|7.5|7.6|6.0|6.8|4.3|4.1|\n",
    ">\n",
    "> 所望の組成を持つ合金をコストを一番安く生成するには、市販の合金をどのように混ぜ合わせれば良いでしょうか。"
   ]
  },
  {
   "cell_type": "markdown",
   "metadata": {},
   "source": [
    "### データファイル読み込み"
   ]
  },
  {
   "cell_type": "code",
   "execution_count": null,
   "metadata": {},
   "outputs": [],
   "source": [
    "import csv\n",
    "\n",
    "data = []\n",
    "\n",
    "data_file = open(\"20231215.data\", \"r\", encoding=\"utf_8\")\n",
    "data_dict = csv.DictReader(data_file, delimiter=\",\", doublequote=False, lineterminator=\"\\n\", skipinitialspace=True)\n",
    "for row in data_dict:\n",
    "    data.append(row)\n",
    "data_file.close()\n",
    "\n",
    "data"
   ]
  },
  {
   "cell_type": "markdown",
   "metadata": {},
   "source": [
    "### 目標値ファイル読み込み"
   ]
  },
  {
   "cell_type": "code",
   "execution_count": null,
   "metadata": {},
   "outputs": [],
   "source": [
    "target = []\n",
    "\n",
    "target_file = open(\"20231215.target\", \"r\", encoding=\"utf_8\")\n",
    "target_dict = csv.DictReader(target_file, delimiter=\",\", doublequote=False, lineterminator=\"\\n\", skipinitialspace=True)\n",
    "for row in target_dict:\n",
    "    target.append(row)\n",
    "target_file.close()\n",
    "\n",
    "target"
   ]
  },
  {
   "cell_type": "markdown",
   "metadata": {},
   "source": [
    "### 目標の配合でコスト最小な組み合わせを求解"
   ]
  },
  {
   "cell_type": "code",
   "execution_count": null,
   "metadata": {},
   "outputs": [],
   "source": [
    "# pulp mypulpインストール\n",
    "%pip install pulp mypulp"
   ]
  },
  {
   "cell_type": "markdown",
   "metadata": {},
   "source": [
    "実は、pulp を使用した例は、\n",
    "\n",
    "https://qiita.com/yoshi-k312/items/fee164d95a9f7d8826cc\n",
    "\n",
    "にあります。\n",
    "\n",
    "ですので、今回は、 mypulp (Groubi風) でのモデル化によって、最適化を実装して求解してみましょう。\n",
    "\n",
    "https://qiita.com/takanyanta/items/bb1f65adb3a9d7bfc37e\n",
    "\n",
    "Groubi は世界で最も使われている数理最適化ソルバーとのことですが、有償(学生等は無償)です。\n",
    "\n",
    "mypulp は Groubi 風の記述ができます。無償です。"
   ]
  },
  {
   "cell_type": "code",
   "execution_count": null,
   "metadata": {},
   "outputs": [],
   "source": [
    "# from mypulp import Model, quicksum, GRB, multidict, tuplelist\n",
    "\n",
    "# モデルを定義する\n",
    "# model = Model(\"20231215_配合問題\")\n",
    "\n",
    "# 変数を宣言する\n",
    "# T.B.D. \n",
    "\n",
    "# 制約を定義する\n",
    "# T.B.D.\n",
    "\n",
    "# 目的関数を定義する\n",
    "# T.B.D.\n",
    "\n",
    "# 求解する\n",
    "# model.optimize()\n",
    "\n",
    "# 結果を出力する\n",
    "# T.B.D."
   ]
  },
  {
   "cell_type": "markdown",
   "metadata": {},
   "source": []
  }
 ],
 "metadata": {
  "kernelspec": {
   "display_name": "base",
   "language": "python",
   "name": "python3"
  },
  "language_info": {
   "codemirror_mode": {
    "name": "ipython",
    "version": 3
   },
   "file_extension": ".py",
   "mimetype": "text/x-python",
   "name": "python",
   "nbconvert_exporter": "python",
   "pygments_lexer": "ipython3",
   "version": "3.11.6"
  }
 },
 "nbformat": 4,
 "nbformat_minor": 2
}
